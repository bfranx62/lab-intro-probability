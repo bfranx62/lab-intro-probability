{
 "cells": [
  {
   "cell_type": "markdown",
   "metadata": {},
   "source": [
    "# Lab | Intro to Probability"
   ]
  },
  {
   "cell_type": "markdown",
   "metadata": {},
   "source": [
    "**Objective**\n",
    "\n",
    "Welcome to this Intro to Probability lab, where we explore decision-making scenarios through the lens of probability and strategic analysis. In the business world, making informed decisions is crucial, especially when faced with uncertainties. This lab focuses on scenarios where probabilistic outcomes play a significant role in shaping strategies and outcomes. Students will engage in exercises that require assessing and choosing optimal paths based on data-driven insights. The goal is to enhance your skills by applying probability concepts to solve real-world problems."
   ]
  },
  {
   "cell_type": "markdown",
   "metadata": {},
   "source": [
    "**Challenge 1**"
   ]
  },
  {
   "cell_type": "markdown",
   "metadata": {},
   "source": [
    "#### Ironhack Airlines \n",
    "\n",
    "Often Airlines sell more tickets than they have seats available, this is called overbooking. Consider the following:\n",
    "- A plane has 450 seats. \n",
    "- Based on historical data we conclude that each individual passenger has a 3% chance of missing it's flight. \n",
    "\n",
    "If the Ironhack Airlines routinely sells 460 tickets, what is the chance that they have a seats for all passenger?"
   ]
  },
  {
   "cell_type": "code",
   "execution_count": 1,
   "metadata": {},
   "outputs": [],
   "source": [
    "from scipy.stats import binom"
   ]
  },
  {
   "cell_type": "code",
   "execution_count": 2,
   "metadata": {},
   "outputs": [
    {
     "data": {
      "text/plain": [
       "0.8844772466215439"
      ]
     },
     "execution_count": 2,
     "metadata": {},
     "output_type": "execute_result"
    }
   ],
   "source": [
    "# Rephrase question - If Ironhack airlines passengers have a 3% chance of missing their flights, how are at least 10 people to not show up?\n",
    "#code here\n",
    "# Number of tickets sold\n",
    "tickets = 460\n",
    "\n",
    "# Probability of a ticket buyer missing their flight\n",
    "p_miss = .03\n",
    "\n",
    "# Runs a binomial distribution\n",
    "binom_dist = binom(tickets,p_miss)\n",
    "\n",
    "# Gets the probability of only nine or fewer passengers missing their flight, and subtracts that from 1 to get the probability that 10 or more will miss their flight. \n",
    "1 - binom_dist.cdf(9)"
   ]
  },
  {
   "cell_type": "code",
   "execution_count": 19,
   "metadata": {},
   "outputs": [
    {
     "data": {
      "text/plain": [
       "0.8844772466215431"
      ]
     },
     "execution_count": 19,
     "metadata": {},
     "output_type": "execute_result"
    }
   ],
   "source": [
    "# Another way to do this is just the reverse - looking at what the chances are that no more than 450 people show up. \n",
    "\n",
    "tickets = 460 \n",
    "p_make = .97\n",
    "\n",
    "binom_dist = binom(tickets,p_make)\n",
    "\n",
    "binom_dist.cdf(450)"
   ]
  },
  {
   "cell_type": "markdown",
   "metadata": {},
   "source": [
    "**Challenge 2**"
   ]
  },
  {
   "cell_type": "markdown",
   "metadata": {},
   "source": [
    "#### Ironhack Call Center "
   ]
  },
  {
   "cell_type": "markdown",
   "metadata": {},
   "source": [
    "Suppose a customer service representative at a call center is handling customer complaints. Consider the following:\n",
    "- The probability of successfully resolving a customer complaint on the first attempt is 0.3. \n",
    "\n",
    "\n",
    "What is the probability that the representative needs to make at least three attempts before successfully resolving a customer complaint?"
   ]
  },
  {
   "cell_type": "code",
   "execution_count": 4,
   "metadata": {},
   "outputs": [
    {
     "data": {
      "text/plain": [
       "0.14699999999999996"
      ]
     },
     "execution_count": 4,
     "metadata": {},
     "output_type": "execute_result"
    }
   ],
   "source": [
    "from scipy.stats import geom\n",
    "\n",
    "# Set probability of resolving an issue\n",
    "p_resolve = 0.3\n",
    "\n",
    "# Create a geometric distribution object\n",
    "p_first_success_on_attempt = geom(p_resolve)\n",
    "\n",
    "# The number in the parentheses shows what number of attempts we want before success. \n",
    "p_first_success_on_attempt.pmf(3)\n",
    "\n",
    "# Probability of succeeding for the first time after 3 calls is 14.7%. "
   ]
  },
  {
   "cell_type": "code",
   "execution_count": 5,
   "metadata": {},
   "outputs": [
    {
     "data": {
      "text/plain": [
       "0.07202999999999998"
      ]
     },
     "execution_count": 5,
     "metadata": {},
     "output_type": "execute_result"
    }
   ],
   "source": [
    "p_first_success_on_attempt.pmf(5)\n",
    "# Probability of succeeding for the first time after 5 calls is 7%. \n"
   ]
  },
  {
   "cell_type": "markdown",
   "metadata": {},
   "source": [
    "This essentially means that it is less and less likely for consecutive calls to fail to resolve the issue and that there's only a 7.2% chance that it takes more than 4 (or at least 5) calls to resolve an issue.\n",
    "\n",
    "However, this assumes that each phone call has the same chance of getting the issue resolved, and it that each call is independent of the other. So in real life, it likely wouldn't play out like this because most times consecutive calls are placed, they are for the same, unresolved issue. In this case, the problem may be more likely to be solved if the next call gets directed to a manager or something, or it may be less or equally likely to be left unresolved if talking to an employee of the same department and seniority level.\n",
    "\n",
    "So, really, for this scenario to work properly, we would be examining what the chances are that a person fails to resolve one issue with one person, then fails another issue with another person, and then finally succeeds on the first call attempt for a different issue with another person. So it's really a question of \"how likely is a caller to be presented with ***n*** back-to-back issues that they cannot resolve?\" where ***n*** is the number of issues they are presented with that they cannot solve and ***n+1*** is the number that goes in the parentheses, being the first attempt on which a success is had. "
   ]
  },
  {
   "cell_type": "markdown",
   "metadata": {},
   "source": [
    "**Challenge 3**"
   ]
  },
  {
   "cell_type": "markdown",
   "metadata": {},
   "source": [
    "#### Ironhack Website"
   ]
  },
  {
   "cell_type": "markdown",
   "metadata": {},
   "source": [
    "Consider a scenario related to Ironhack website traffic. Where:\n",
    "- our website takes on average 500 visits per hour.\n",
    "- the website's server is designed to handle up to 550 vists per hour.\n",
    "\n",
    "\n",
    "What is the probability of the website server being overwhelmed?"
   ]
  },
  {
   "cell_type": "code",
   "execution_count": 6,
   "metadata": {},
   "outputs": [
    {
     "data": {
      "text/plain": [
       "0.0015115070495210661"
      ]
     },
     "execution_count": 6,
     "metadata": {},
     "output_type": "execute_result"
    }
   ],
   "source": [
    "from scipy.stats import poisson\n",
    "\n",
    "ave_hourly_visits = 500\n",
    "poisson_dist = poisson(ave_hourly_visits)\n",
    "\n",
    "# This only shows the probability of getting exactly 550 visitors in one hour.\n",
    "poisson_dist.pmf(550)"
   ]
  },
  {
   "cell_type": "code",
   "execution_count": 7,
   "metadata": {},
   "outputs": [
    {
     "data": {
      "text/plain": [
       "0.01289822084039205"
      ]
     },
     "execution_count": 7,
     "metadata": {},
     "output_type": "execute_result"
    }
   ],
   "source": [
    "# In order to find the probability of the server being overwhelmed at some point, we have to subtract from the 100% chance of either overload or not overload the probability of the website not being overloaded. In this case, the probability of the website NOT being overloaded is the same as the probability of the website getting UP TO 550 visitors in any given hour. The chance of it being overloaded would be 100% minus that. \n",
    "\n",
    "# Gets the probability of up to 550 visitors on the site in any given hour. \n",
    "poisson_dist.cdf(550)\n",
    "\n",
    "# Gets the inverse of that, or the \"remaining\" probability. \n",
    "1 - poisson_dist.cdf(550)\n",
    "\n",
    "# So in this case there is only a 1.2% chance of the website overloading in any given hour. "
   ]
  },
  {
   "cell_type": "markdown",
   "metadata": {},
   "source": [
    "What is the probability of being overwhelmed at some point during a day? (consider 24hours)"
   ]
  },
  {
   "cell_type": "code",
   "execution_count": 8,
   "metadata": {},
   "outputs": [
    {
     "data": {
      "text/plain": [
       "0.2677043869515715"
      ]
     },
     "execution_count": 8,
     "metadata": {},
     "output_type": "execute_result"
    }
   ],
   "source": [
    "# In order to calculate this, we need to sort of iterate this hourly probability over multiple hours, in this case 24. \n",
    "\n",
    "# Set number of hours to iterate over\n",
    "hours = 24\n",
    "\n",
    "# Saves the probability of not getting more than 550 visitors in an hour (ie, probability of not getting overloaded in a given hour).\n",
    "p_one_hr_no_overload = poisson_dist.cdf(550)\n",
    "\n",
    "# Iterates the probability of not overloading over the number of hours in the hours object\n",
    "# The way this works is essentially asking for a repeat of a not overload 24 times in a row. \n",
    "# Since the probability of not overloading in any given hour is about 98.8%, this essentially does 98.8% * 98.8% * 98.8% etc. 24 times. \n",
    "p_mult_hours_no_overload = p_one_hr_no_overload ** hours\n",
    "\n",
    "# Because that gives us the probability of NOT overloading over the course of 24 hours, we subtract that probability from 1 to get our result. \n",
    "1 - p_mult_hours_no_overload\n"
   ]
  },
  {
   "cell_type": "markdown",
   "metadata": {},
   "source": [
    "**Challenge 4**"
   ]
  },
  {
   "cell_type": "markdown",
   "metadata": {},
   "source": [
    "#### Ironhack Helpdesk"
   ]
  },
  {
   "cell_type": "markdown",
   "metadata": {},
   "source": [
    "Consider a scenario related to the time between arrivals of customers at a service desk.\n",
    "\n",
    "On average, a customers arrives every 10minutes.\n",
    "\n",
    "What is the probability that the next customer will arrive within the next 5 minutes?"
   ]
  },
  {
   "cell_type": "code",
   "execution_count": 9,
   "metadata": {},
   "outputs": [
    {
     "data": {
      "text/plain": [
       "0.5654017914929218"
      ]
     },
     "execution_count": 9,
     "metadata": {},
     "output_type": "execute_result"
    }
   ],
   "source": [
    "# This won't work. Don't do it. Don't use it. It's not right. \n",
    "\n",
    "# from scipy.stats import expon\n",
    "\n",
    "# lambda_v = 10/60        # 10 minutes out of 60 is the average amount of time between arrivals\n",
    "\n",
    "# lambda_inv = expon(scale = 1/lambda_v)   # runs exponential function - not sure yet what exactly this does. \n",
    "\n",
    "# lambda_inv.cdf(5)   # Checks what the probablility is that a customer will arrive within five minutes. \n",
    "\n",
    "# There's a 56.54% chance of a customer arriving within 5 minutes when the average time between arrivals is 10 minutes. "
   ]
  },
  {
   "cell_type": "markdown",
   "metadata": {},
   "source": [
    "# BIG DEAL - DRAW ATTN TO THIS!!! WERE WE WRONG YESTERDAY?!"
   ]
  },
  {
   "cell_type": "code",
   "execution_count": 20,
   "metadata": {},
   "outputs": [
    {
     "data": {
      "text/plain": [
       "0.3934693402873666"
      ]
     },
     "execution_count": 20,
     "metadata": {},
     "output_type": "execute_result"
    }
   ],
   "source": [
    "lambda_v = .1     # lambda_v is .1 because we are working with minutes, not hours, and because the average arrival time is 1 customer per 10 minutes, or 1/10. That's why it was 0.1 yesterday.\n",
    "\n",
    "lambda_inv = expon(scale = 1/lambda_v)\n",
    "\n",
    "lambda_inv.cdf(5)   # We're working with minutes, and we wanna know the chances of a customer coming within 5 minutes. \n",
    "# thats 39.35%"
   ]
  },
  {
   "cell_type": "code",
   "execution_count": 21,
   "metadata": {},
   "outputs": [
    {
     "data": {
      "text/plain": [
       "0.3934693402873666"
      ]
     },
     "execution_count": 21,
     "metadata": {},
     "output_type": "execute_result"
    }
   ],
   "source": [
    "time_between = 10\n",
    "\n",
    "lambda_inv = expon(scale = time_between)\n",
    "\n",
    "lambda_inv.cdf(5)\n",
    "\n",
    "# Same result. Do scale = 1/ lambda_v if you are starting with the rate, do scale = lambda_v if you are starting with the average time between events. "
   ]
  },
  {
   "cell_type": "markdown",
   "metadata": {},
   "source": [
    "If there is no customer for 15minutes, employees can that a 5minutes break.\n",
    "\n",
    "What is the probability an employee taking a break?"
   ]
  },
  {
   "cell_type": "code",
   "execution_count": 13,
   "metadata": {},
   "outputs": [
    {
     "data": {
      "text/plain": [
       "0.2231301601484298"
      ]
     },
     "execution_count": 13,
     "metadata": {},
     "output_type": "execute_result"
    }
   ],
   "source": [
    "# This is exactly the same sub problem as the lesson, with different wording. \n",
    "\n",
    "1 - lambda_inv.cdf(15) # Not sure what's happening here yet because I don't understand what expon() does, but this should be the right answer. \n",
    "\n",
    "# There's an 22.31% chance of getting to take a five minute break between any two customer visits. "
   ]
  },
  {
   "cell_type": "markdown",
   "metadata": {},
   "source": [
    "**Challenge 5**"
   ]
  },
  {
   "cell_type": "markdown",
   "metadata": {},
   "source": [
    "The weights of a certain species of birds follow a normal distribution with a mean weight of 150 grams and a standard deviation of 10 grams. \n",
    "\n",
    "- If we randomly select a bird, what is the probability that its weight is between 140 and 160 grams?"
   ]
  },
  {
   "cell_type": "code",
   "execution_count": 22,
   "metadata": {},
   "outputs": [
    {
     "data": {
      "text/plain": [
       "0.6826894921370859"
      ]
     },
     "execution_count": 22,
     "metadata": {},
     "output_type": "execute_result"
    }
   ],
   "source": [
    "from scipy.stats import norm\n",
    "\n",
    "m = 150    # Sets mean to be applied in normal distribution\n",
    "std = 10   # Sets standard deviation to be applied in normal distribution\n",
    "\n",
    "norm_dist = norm(loc = m, scale = std)    # creates a mathematical model of a normal distribution, in which model the probabilities of different values can be analyzed. \n",
    "\n",
    "# Gets the probability of getting a bird with a weight of 160g or less, then subtracts from that the probability of getting a bird of 140g or less, giving the probability of getting a bird between those two weights. \n",
    "norm_dist.cdf(160) - norm_dist.cdf(140)   "
   ]
  },
  {
   "cell_type": "markdown",
   "metadata": {},
   "source": [
    "**Challenge 6**"
   ]
  },
  {
   "cell_type": "markdown",
   "metadata": {},
   "source": [
    "If the lifetime (in hours) of a certain electronic component follows an exponential distribution with a mean lifetime of 50 hours, what is the probability that the component fails within the first 30 hours?"
   ]
  },
  {
   "cell_type": "code",
   "execution_count": 15,
   "metadata": {},
   "outputs": [
    {
     "data": {
      "text/plain": [
       "0.4511883639059735"
      ]
     },
     "execution_count": 15,
     "metadata": {},
     "output_type": "execute_result"
    }
   ],
   "source": [
    "# no need to import expon from scipy.stats because I already did\n",
    "\n",
    "lambda_v = 50      # sets lambda value of 50 hours, the average lifetime of the electronic component\n",
    "\n",
    "lambda_inv = expon(scale = lambda_v)   # We don't use 1/lambda_v this time because we have the average lifetime, not the arrival rate. \n",
    "\n",
    "lambda_inv.cdf(30) \n",
    "# There is a 45.12% chance that the component fails within 50 hours. "
   ]
  },
  {
   "cell_type": "code",
   "execution_count": null,
   "metadata": {},
   "outputs": [],
   "source": []
  }
 ],
 "metadata": {
  "kernelspec": {
   "display_name": "Python 3",
   "language": "python",
   "name": "python3"
  },
  "language_info": {
   "codemirror_mode": {
    "name": "ipython",
    "version": 3
   },
   "file_extension": ".py",
   "mimetype": "text/x-python",
   "name": "python",
   "nbconvert_exporter": "python",
   "pygments_lexer": "ipython3",
   "version": "3.11.7"
  }
 },
 "nbformat": 4,
 "nbformat_minor": 2
}
